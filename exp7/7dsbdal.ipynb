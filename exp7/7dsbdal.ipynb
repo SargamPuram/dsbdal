{
 "cells": [
  {
   "cell_type": "code",
   "execution_count": 1,
   "id": "b41f70d2-7417-4c2e-ad4a-40049b9f88f8",
   "metadata": {},
   "outputs": [
    {
     "name": "stdout",
     "output_type": "stream",
     "text": [
      "Requirement already satisfied: nltk in /home/sargam/.conda/envs/myenv/lib/python3.11/site-packages (3.9.1)\n",
      "Requirement already satisfied: click in /home/sargam/.conda/envs/myenv/lib/python3.11/site-packages (from nltk) (8.1.8)\n",
      "Requirement already satisfied: joblib in /home/sargam/.conda/envs/myenv/lib/python3.11/site-packages (from nltk) (1.5.0)\n",
      "Requirement already satisfied: regex>=2021.8.3 in /home/sargam/.conda/envs/myenv/lib/python3.11/site-packages (from nltk) (2024.11.6)\n",
      "Requirement already satisfied: tqdm in /home/sargam/.conda/envs/myenv/lib/python3.11/site-packages (from nltk) (4.67.1)\n",
      "Requirement already satisfied: pandas in /home/sargam/.conda/envs/myenv/lib/python3.11/site-packages (2.2.3)\n",
      "Requirement already satisfied: numpy>=1.23.2 in /home/sargam/.conda/envs/myenv/lib/python3.11/site-packages (from pandas) (2.0.1)\n",
      "Requirement already satisfied: python-dateutil>=2.8.2 in /home/sargam/.conda/envs/myenv/lib/python3.11/site-packages (from pandas) (2.9.0.post0)\n",
      "Requirement already satisfied: pytz>=2020.1 in /home/sargam/.conda/envs/myenv/lib/python3.11/site-packages (from pandas) (2024.1)\n",
      "Requirement already satisfied: tzdata>=2022.7 in /home/sargam/.conda/envs/myenv/lib/python3.11/site-packages (from pandas) (2025.2)\n",
      "Requirement already satisfied: six>=1.5 in /home/sargam/.conda/envs/myenv/lib/python3.11/site-packages (from python-dateutil>=2.8.2->pandas) (1.17.0)\n",
      "Requirement already satisfied: scikit-learn in /home/sargam/.conda/envs/myenv/lib/python3.11/site-packages (1.6.1)\n",
      "Requirement already satisfied: numpy>=1.19.5 in /home/sargam/.conda/envs/myenv/lib/python3.11/site-packages (from scikit-learn) (2.0.1)\n",
      "Requirement already satisfied: scipy>=1.6.0 in /home/sargam/.conda/envs/myenv/lib/python3.11/site-packages (from scikit-learn) (1.15.2)\n",
      "Requirement already satisfied: joblib>=1.2.0 in /home/sargam/.conda/envs/myenv/lib/python3.11/site-packages (from scikit-learn) (1.5.0)\n",
      "Requirement already satisfied: threadpoolctl>=3.1.0 in /home/sargam/.conda/envs/myenv/lib/python3.11/site-packages (from scikit-learn) (3.6.0)\n"
     ]
    }
   ],
   "source": [
    "!pip install nltk\n",
    "!pip install pandas\n",
    "!pip install scikit-learn\n"
   ]
  },
  {
   "cell_type": "code",
   "execution_count": 4,
   "id": "1b55701e-7e02-4529-98da-2f11cc8b467f",
   "metadata": {},
   "outputs": [],
   "source": [
    "import nltk\n",
    "import re\n",
    "import math\n",
    "import pandas as pd\n",
    "from nltk.tokenize import word_tokenize, sent_tokenize\n",
    "from nltk.corpus import stopwords\n",
    "from nltk.stem import PorterStemmer, WordNetLemmatizer\n",
    "from sklearn.feature_extraction.text import TfidfVectorizer"
   ]
  },
  {
   "cell_type": "code",
   "execution_count": 18,
   "id": "18a08c3a-fc64-4864-b72f-96cbe81c3cff",
   "metadata": {},
   "outputs": [
    {
     "name": "stderr",
     "output_type": "stream",
     "text": [
      "[nltk_data] Downloading package punkt to /home/sargam/nltk_data...\n",
      "[nltk_data]   Package punkt is already up-to-date!\n",
      "[nltk_data] Downloading package stopwords to /home/sargam/nltk_data...\n",
      "[nltk_data]   Package stopwords is already up-to-date!\n",
      "[nltk_data] Downloading package wordnet to /home/sargam/nltk_data...\n",
      "[nltk_data]   Package wordnet is already up-to-date!\n",
      "[nltk_data] Downloading package averaged_perceptron_tagger to\n",
      "[nltk_data]     /home/sargam/nltk_data...\n",
      "[nltk_data]   Package averaged_perceptron_tagger is already up-to-\n",
      "[nltk_data]       date!\n",
      "[nltk_data] Downloading package punkt_tab to /home/sargam/nltk_data...\n",
      "[nltk_data]   Package punkt_tab is already up-to-date!\n",
      "[nltk_data] Downloading package averaged_perceptron_tagger_eng to\n",
      "[nltk_data]     /home/sargam/nltk_data...\n",
      "[nltk_data]   Unzipping taggers/averaged_perceptron_tagger_eng.zip.\n"
     ]
    },
    {
     "data": {
      "text/plain": [
       "True"
      ]
     },
     "execution_count": 18,
     "metadata": {},
     "output_type": "execute_result"
    }
   ],
   "source": [
    "nltk.download('punkt')\n",
    "nltk.download('stopwords')\n",
    "nltk.download('wordnet')\n",
    "nltk.download('averaged_perceptron_tagger')\n",
    "nltk.download('punkt_tab')\n",
    "nltk.download('averaged_perceptron_tagger_eng')"
   ]
  },
  {
   "cell_type": "code",
   "execution_count": 6,
   "id": "d25722e8-157f-40c2-acb0-6be9f5469837",
   "metadata": {},
   "outputs": [],
   "source": [
    "text = \"Tokenization is the first step in text analytics. The process of breaking down a text paragraph into smaller chunks such as words or sentences is called Tokenization.\"\n"
   ]
  },
  {
   "cell_type": "code",
   "execution_count": 9,
   "id": "1e10ea68-2423-41ba-98fb-b0bf567127a5",
   "metadata": {},
   "outputs": [
    {
     "name": "stdout",
     "output_type": "stream",
     "text": [
      "Sentence Tokenization: ['Tokenization is the first step in text analytics.', 'The process of breaking down a text paragraph into smaller chunks such as words or sentences is called Tokenization.']\n"
     ]
    }
   ],
   "source": [
    "tokenized_text = sent_tokenize(text)\n",
    "print(\"Sentence Tokenization:\", tokenized_text)"
   ]
  },
  {
   "cell_type": "code",
   "execution_count": 10,
   "id": "308d8e0c-ec11-4582-90a7-1ab912de4e0b",
   "metadata": {},
   "outputs": [
    {
     "name": "stdout",
     "output_type": "stream",
     "text": [
      "Word Tokenization: ['Tokenization', 'is', 'the', 'first', 'step', 'in', 'text', 'analytics', '.', 'The', 'process', 'of', 'breaking', 'down', 'a', 'text', 'paragraph', 'into', 'smaller', 'chunks', 'such', 'as', 'words', 'or', 'sentences', 'is', 'called', 'Tokenization', '.']\n"
     ]
    }
   ],
   "source": [
    "tokenized_word = word_tokenize(text)\n",
    "print(\"Word Tokenization:\", tokenized_word)"
   ]
  },
  {
   "cell_type": "code",
   "execution_count": 11,
   "id": "b16bb8a4-a855-496f-b974-7d52bb79671b",
   "metadata": {},
   "outputs": [
    {
     "name": "stdout",
     "output_type": "stream",
     "text": [
      "Stop Words: {'o', \"doesn't\", 'his', 'is', 'should', \"we're\", 'because', 'do', 'below', 'more', 'how', \"it's\", 'doing', 'each', 'our', 'up', \"she'll\", 'will', 'hadn', 'between', 'shan', 'in', 'mightn', 'being', \"mustn't\", 'very', 'were', \"she's\", 'yourself', 'isn', 'these', 'both', \"they've\", 'until', 'they', 'few', 'have', 'here', 'so', 'then', 'why', 'ain', 'haven', 'y', 'the', 'yourselves', 'once', 'won', \"we'll\", \"it'd\", 'weren', 'off', \"they'll\", 'this', 'can', \"weren't\", 'some', \"it'll\", 'other', 'him', 'which', 'its', 'he', 'by', 'about', 'too', 'only', 'wouldn', 'theirs', 'been', \"you've\", 'into', 'during', 'her', 'nor', 'themselves', \"that'll\", 'you', 'had', 'ours', 'their', 'my', \"mightn't\", 'hasn', 'or', 've', 'down', 'on', 'but', \"we'd\", 'before', 'at', \"he'll\", 'with', 'own', \"he'd\", \"needn't\", 'where', 'it', 'an', 'am', \"i'd\", 'm', 'that', 'd', 'over', 'there', \"you'll\", 'myself', 'ourselves', 'does', 'now', 'who', 'hers', 'through', 'shouldn', 'couldn', 'a', 'against', 'to', \"couldn't\", \"didn't\", \"she'd\", \"don't\", 'than', 'we', 'didn', \"shouldn't\", 'above', \"i'll\", \"isn't\", \"they're\", 'don', 'while', 'same', 'doesn', 'not', 't', 'itself', 'them', \"they'd\", 'whom', \"i've\", 'be', 'and', 'll', \"hasn't\", 'i', \"you're\", \"won't\", 'again', 'needn', 'she', 'ma', 'those', 'from', 'was', 'are', 'for', 'himself', \"he's\", 's', 'wasn', \"wouldn't\", 'under', 'such', 'just', \"wasn't\", 'herself', 'as', \"we've\", 'most', 'yours', \"shan't\", 'what', \"haven't\", 'all', 'me', 'of', \"hadn't\", 'out', 'any', 'aren', \"aren't\", 'further', 'has', 'did', 'mustn', 'when', \"should've\", 're', 'no', 'after', 'having', 'if', \"i'm\", \"you'd\", 'your'}\n"
     ]
    }
   ],
   "source": [
    "stop_words = set(stopwords.words(\"english\"))\n",
    "print(\"Stop Words:\", stop_words)"
   ]
  },
  {
   "cell_type": "code",
   "execution_count": 12,
   "id": "98b7eff3-ae3c-4cc6-a826-da773697b2ca",
   "metadata": {},
   "outputs": [],
   "source": [
    "text = \"How to remove stop words with NLTK library in Python?\"\n",
    "text = re.sub('[^a-zA-Z]', ' ', text)\n",
    "tokens = word_tokenize(text.lower())\n",
    "filtered_text = [w for w in tokens if w not in stop_words]\n"
   ]
  },
  {
   "cell_type": "code",
   "execution_count": 13,
   "id": "0792186e-ded7-4d90-b157-b364b772fd13",
   "metadata": {},
   "outputs": [
    {
     "name": "stdout",
     "output_type": "stream",
     "text": [
      "Tokenized Sentence: ['how', 'to', 'remove', 'stop', 'words', 'with', 'nltk', 'library', 'in', 'python']\n",
      "Filtered Sentence: ['remove', 'stop', 'words', 'nltk', 'library', 'python']\n"
     ]
    }
   ],
   "source": [
    "print(\"Tokenized Sentence:\", tokens)\n",
    "print(\"Filtered Sentence:\", filtered_text)"
   ]
  },
  {
   "cell_type": "code",
   "execution_count": 14,
   "id": "584175f8-5836-4f97-8770-3a8b0bf231a9",
   "metadata": {},
   "outputs": [
    {
     "name": "stdout",
     "output_type": "stream",
     "text": [
      "\n",
      "Stemming Results:\n",
      "Original: wait -> Stemmed: wait\n",
      "Original: waiting -> Stemmed: wait\n",
      "Original: waited -> Stemmed: wait\n",
      "Original: waits -> Stemmed: wait\n"
     ]
    }
   ],
   "source": [
    "e_words = [\"wait\", \"waiting\", \"waited\", \"waits\"]\n",
    "ps = PorterStemmer()\n",
    "print(\"\\nStemming Results:\")\n",
    "for w in e_words:\n",
    "    root_word = ps.stem(w)\n",
    "    print(f\"Original: {w} -> Stemmed: {root_word}\")"
   ]
  },
  {
   "cell_type": "code",
   "execution_count": 15,
   "id": "11e93045-fba4-40b5-ad3a-8a616e7990b8",
   "metadata": {},
   "outputs": [],
   "source": [
    "wordnet_lemmatizer = WordNetLemmatizer()\n",
    "text = \"studies studying cries cry\"\n",
    "tokenization = nltk.word_tokenize(text)"
   ]
  },
  {
   "cell_type": "code",
   "execution_count": 16,
   "id": "a9f3473a-89d7-4b07-9d99-7a944bf0bfe3",
   "metadata": {},
   "outputs": [
    {
     "name": "stdout",
     "output_type": "stream",
     "text": [
      "\n",
      "Lemmatization Results:\n",
      "Lemma for studies is study\n",
      "Lemma for studying is studying\n",
      "Lemma for cries is cry\n",
      "Lemma for cry is cry\n"
     ]
    }
   ],
   "source": [
    "print(\"\\nLemmatization Results:\")\n",
    "for w in tokenization:\n",
    "    print(f\"Lemma for {w} is {wordnet_lemmatizer.lemmatize(w)}\")\n"
   ]
  },
  {
   "cell_type": "code",
   "execution_count": 19,
   "id": "085caf53-25f9-428b-a859-71bb620e7135",
   "metadata": {},
   "outputs": [
    {
     "name": "stdout",
     "output_type": "stream",
     "text": [
      "\n",
      "POS Tagging:\n",
      "The: [('The', 'DT')]\n",
      "pink: [('pink', 'NN')]\n",
      "sweater: [('sweater', 'NN')]\n",
      "fit: [('fit', 'NN')]\n",
      "her: [('her', 'PRP$')]\n",
      "perfectly: [('perfectly', 'RB')]\n"
     ]
    }
   ],
   "source": [
    "data = \"The pink sweater fit her perfectly\"\n",
    "words = word_tokenize(data)\n",
    "print(\"\\nPOS Tagging:\")\n",
    "for word in words:\n",
    "    print(f\"{word}: {nltk.pos_tag([word])}\")"
   ]
  },
  {
   "cell_type": "code",
   "execution_count": 20,
   "id": "65073e1f-e164-4d6b-ae39-97da48ed66d6",
   "metadata": {},
   "outputs": [],
   "source": [
    "documentA = 'Jupiter is the largest Planet'\n",
    "documentB = 'Mars is the fourth planet from the Sun'"
   ]
  },
  {
   "cell_type": "code",
   "execution_count": 21,
   "id": "70290038-f40e-4099-8100-fe16ab51030b",
   "metadata": {},
   "outputs": [],
   "source": [
    "bagOfWordsA = documentA.split(' ')\n",
    "bagOfWordsB = documentB.split(' ')"
   ]
  },
  {
   "cell_type": "code",
   "execution_count": 22,
   "id": "1737f2e3-def5-411e-aea4-8c520129aed8",
   "metadata": {},
   "outputs": [],
   "source": [
    "uniqueWords = set(bagOfWordsA).union(set(bagOfWordsB))\n"
   ]
  },
  {
   "cell_type": "code",
   "execution_count": 23,
   "id": "4f90a6ab-777e-40fe-bf0a-84a4aaee89ab",
   "metadata": {},
   "outputs": [],
   "source": [
    "numOfWordsA = dict.fromkeys(uniqueWords, 0)\n",
    "for word in bagOfWordsA:\n",
    "    numOfWordsA[word] += 1"
   ]
  },
  {
   "cell_type": "code",
   "execution_count": 24,
   "id": "e2ec9b62-20a9-4758-bfbf-6b42293570f3",
   "metadata": {},
   "outputs": [],
   "source": [
    "numOfWordsB = dict.fromkeys(uniqueWords, 0)\n",
    "for word in bagOfWordsB:\n",
    "    numOfWordsB[word] += 1\n"
   ]
  },
  {
   "cell_type": "code",
   "execution_count": 25,
   "id": "60d1a786-0446-4e2f-9c58-e522be8815f1",
   "metadata": {},
   "outputs": [],
   "source": [
    "def computeTF(wordDict, bagOfWords):\n",
    "    tfDict = {}\n",
    "    bagOfWordsCount = len(bagOfWords)\n",
    "    for word, count in wordDict.items():\n",
    "        tfDict[word] = count / float(bagOfWordsCount)\n",
    "    return tfDict"
   ]
  },
  {
   "cell_type": "code",
   "execution_count": 26,
   "id": "e547eb2e-dc8c-4f7f-badf-fb996ac7c001",
   "metadata": {},
   "outputs": [],
   "source": [
    "tfA = computeTF(numOfWordsA, bagOfWordsA)\n",
    "tfB = computeTF(numOfWordsB, bagOfWordsB)"
   ]
  },
  {
   "cell_type": "code",
   "execution_count": 27,
   "id": "f0cfbe7c-fc7d-4d65-aabc-19deb0a39a6d",
   "metadata": {},
   "outputs": [
    {
     "name": "stdout",
     "output_type": "stream",
     "text": [
      "\n",
      "Inverse Document Frequency (IDF) Values: {'Planet': 0.6931471805599453, 'from': 0.6931471805599453, 'the': 0.0, 'fourth': 0.6931471805599453, 'largest': 0.6931471805599453, 'Sun': 0.6931471805599453, 'is': 0.0, 'Jupiter': 0.6931471805599453, 'planet': 0.6931471805599453, 'Mars': 0.6931471805599453}\n"
     ]
    }
   ],
   "source": [
    "def computeIDF(documents):\n",
    "    N = len(documents)\n",
    "    idfDict = dict.fromkeys(documents[0].keys(), 0)\n",
    "    for document in documents:\n",
    "        for word, val in document.items():\n",
    "            if val > 0:\n",
    "                idfDict[word] += 1\n",
    "    for word, val in idfDict.items():\n",
    "        idfDict[word] = math.log(N / float(val))\n",
    "    return idfDict\n",
    "\n",
    "idfs = computeIDF([numOfWordsA, numOfWordsB])\n",
    "print(\"\\nInverse Document Frequency (IDF) Values:\", idfs)\n"
   ]
  },
  {
   "cell_type": "code",
   "execution_count": 28,
   "id": "808bab4d-cd50-4500-a628-97ad1be13c67",
   "metadata": {},
   "outputs": [
    {
     "name": "stdout",
     "output_type": "stream",
     "text": [
      "\n",
      "TF-IDF Values for Documents A and B:\n",
      "     Planet      from  the    fourth   largest       Sun   is   Jupiter  \\\n",
      "0  0.138629  0.000000  0.0  0.000000  0.138629  0.000000  0.0  0.138629   \n",
      "1  0.000000  0.086643  0.0  0.086643  0.000000  0.086643  0.0  0.000000   \n",
      "\n",
      "     planet      Mars  \n",
      "0  0.000000  0.000000  \n",
      "1  0.086643  0.086643  \n"
     ]
    }
   ],
   "source": [
    "def computeTFIDF(tfBagOfWords, idfs):\n",
    "    tfidf = {}\n",
    "    for word, val in tfBagOfWords.items():\n",
    "        tfidf[word] = val * idfs[word]\n",
    "    return tfidf\n",
    "\n",
    "tfidfA = computeTFIDF(tfA, idfs)\n",
    "tfidfB = computeTFIDF(tfB, idfs)\n",
    "\n",
    "df = pd.DataFrame([tfidfA, tfidfB])\n",
    "print(\"\\nTF-IDF Values for Documents A and B:\")\n",
    "print(df)"
   ]
  },
  {
   "cell_type": "code",
   "execution_count": null,
   "id": "9830ae33-4138-4d6a-922b-7c4896458bcd",
   "metadata": {},
   "outputs": [],
   "source": []
  }
 ],
 "metadata": {
  "kernelspec": {
   "display_name": "Python 3 (ipykernel)",
   "language": "python",
   "name": "python3"
  },
  "language_info": {
   "codemirror_mode": {
    "name": "ipython",
    "version": 3
   },
   "file_extension": ".py",
   "mimetype": "text/x-python",
   "name": "python",
   "nbconvert_exporter": "python",
   "pygments_lexer": "ipython3",
   "version": "3.11.11"
  }
 },
 "nbformat": 4,
 "nbformat_minor": 5
}
