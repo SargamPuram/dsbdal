{
 "cells": [
  {
   "cell_type": "code",
   "execution_count": 1,
   "id": "46046431-c340-4312-9c96-fd87386b6293",
   "metadata": {},
   "outputs": [
    {
     "name": "stdout",
     "output_type": "stream",
     "text": [
      "Requirement already satisfied: pandas in /home/sargam/.conda/envs/myenv/lib/python3.11/site-packages (2.2.3)\n",
      "Requirement already satisfied: numpy in /home/sargam/.conda/envs/myenv/lib/python3.11/site-packages (2.0.1)\n",
      "Requirement already satisfied: matplotlib in /home/sargam/.conda/envs/myenv/lib/python3.11/site-packages (3.10.1)\n",
      "Requirement already satisfied: seaborn in /home/sargam/.conda/envs/myenv/lib/python3.11/site-packages (0.13.2)\n",
      "Requirement already satisfied: python-dateutil>=2.8.2 in /home/sargam/.conda/envs/myenv/lib/python3.11/site-packages (from pandas) (2.9.0.post0)\n",
      "Requirement already satisfied: pytz>=2020.1 in /home/sargam/.conda/envs/myenv/lib/python3.11/site-packages (from pandas) (2024.1)\n",
      "Requirement already satisfied: tzdata>=2022.7 in /home/sargam/.conda/envs/myenv/lib/python3.11/site-packages (from pandas) (2025.2)\n",
      "Requirement already satisfied: contourpy>=1.0.1 in /home/sargam/.conda/envs/myenv/lib/python3.11/site-packages (from matplotlib) (1.3.2)\n",
      "Requirement already satisfied: cycler>=0.10 in /home/sargam/.conda/envs/myenv/lib/python3.11/site-packages (from matplotlib) (0.12.1)\n",
      "Requirement already satisfied: fonttools>=4.22.0 in /home/sargam/.conda/envs/myenv/lib/python3.11/site-packages (from matplotlib) (4.57.0)\n",
      "Requirement already satisfied: kiwisolver>=1.3.1 in /home/sargam/.conda/envs/myenv/lib/python3.11/site-packages (from matplotlib) (1.4.8)\n",
      "Requirement already satisfied: packaging>=20.0 in /home/sargam/.conda/envs/myenv/lib/python3.11/site-packages (from matplotlib) (24.2)\n",
      "Requirement already satisfied: pillow>=8 in /home/sargam/.conda/envs/myenv/lib/python3.11/site-packages (from matplotlib) (11.2.1)\n",
      "Requirement already satisfied: pyparsing>=2.3.1 in /home/sargam/.conda/envs/myenv/lib/python3.11/site-packages (from matplotlib) (3.2.3)\n",
      "Requirement already satisfied: six>=1.5 in /home/sargam/.conda/envs/myenv/lib/python3.11/site-packages (from python-dateutil>=2.8.2->pandas) (1.17.0)\n"
     ]
    }
   ],
   "source": [
    "!pip install pandas numpy matplotlib seaborn"
   ]
  },
  {
   "cell_type": "code",
   "execution_count": 3,
   "id": "0667a487-7ef8-45d5-8bdd-cbcab94cde79",
   "metadata": {},
   "outputs": [],
   "source": [
    "import pandas as pd\n",
    "import numpy as np\n",
    "import matplotlib.pyplot as plt\n",
    "import seaborn as sns\n",
    "from scipy import stats"
   ]
  },
  {
   "cell_type": "code",
   "execution_count": 4,
   "id": "fbe9ee54-d6eb-4aef-b937-c4d223f48dae",
   "metadata": {},
   "outputs": [],
   "source": [
    "# Load dataset\n",
    "df = pd.read_csv(\"/home/sargam/Downloads/StudentsPerformance.csv\")"
   ]
  },
  {
   "cell_type": "code",
   "execution_count": 5,
   "id": "d089511c-22a5-41a8-89f5-687867d4bba2",
   "metadata": {},
   "outputs": [
    {
     "name": "stdout",
     "output_type": "stream",
     "text": [
      "   gender race/ethnicity parental level of education         lunch  \\\n",
      "0  female        group B           bachelor's degree      standard   \n",
      "1  female        group C                some college      standard   \n",
      "2  female        group B             master's degree      standard   \n",
      "3    male        group A          associate's degree  free/reduced   \n",
      "4    male        group C                some college      standard   \n",
      "\n",
      "  test_preparation_course  math_score  reading_score  writing_score  \n",
      "0                    none        72.0           72.0           74.0  \n",
      "1               completed        69.0           90.0           88.0  \n",
      "2                    none        90.0           95.0           93.0  \n",
      "3                    none        47.0           57.0           44.0  \n",
      "4                    none        76.0           78.0           75.0  \n"
     ]
    }
   ],
   "source": [
    "print(df.head())"
   ]
  },
  {
   "cell_type": "code",
   "execution_count": 6,
   "id": "cb9f9e09-e27d-43a0-9f1f-ee8192cc4498",
   "metadata": {},
   "outputs": [
    {
     "name": "stdout",
     "output_type": "stream",
     "text": [
      "Missing values before:\n",
      " gender                         0\n",
      "race/ethnicity                 0\n",
      "parental level of education    0\n",
      "lunch                          0\n",
      "test_preparation_course        0\n",
      "math_score                     9\n",
      "reading_score                  5\n",
      "writing_score                  6\n",
      "dtype: int64\n"
     ]
    }
   ],
   "source": [
    "# ✅ 1. Handling missing values\n",
    "print(\"Missing values before:\\n\", df.isnull().sum())"
   ]
  },
  {
   "cell_type": "code",
   "execution_count": 7,
   "id": "08bbb286-57ac-41e6-82c2-850c870fcebe",
   "metadata": {},
   "outputs": [],
   "source": [
    "# Fill missing numeric scores with their respective column means\n",
    "df['math_score'] = df['math_score'].fillna(df['math_score'].mean())\n",
    "df['reading_score'] = df['reading_score'].fillna(df['reading_score'].mean())\n",
    "df['writing_score'] = df['writing_score'].fillna(df['writing_score'].mean())\n"
   ]
  },
  {
   "cell_type": "code",
   "execution_count": 8,
   "id": "c37eac9d-ca58-42a2-9f7d-c0f33892ffd6",
   "metadata": {},
   "outputs": [
    {
     "name": "stdout",
     "output_type": "stream",
     "text": [
      "\n",
      "Missing values after:\n",
      " gender                         0\n",
      "race/ethnicity                 0\n",
      "parental level of education    0\n",
      "lunch                          0\n",
      "test_preparation_course        0\n",
      "math_score                     0\n",
      "reading_score                  0\n",
      "writing_score                  0\n",
      "dtype: int64\n"
     ]
    }
   ],
   "source": [
    "print(\"\\nMissing values after:\\n\", df.isnull().sum())"
   ]
  },
  {
   "cell_type": "code",
   "execution_count": 9,
   "id": "5b164445-a19b-4884-8fda-6f311211ac3e",
   "metadata": {},
   "outputs": [],
   "source": [
    "# ✅ 2. Outlier Detection using IQR\n",
    "def detect_outliers(col):\n",
    "    Q1 = df[col].quantile(0.25)\n",
    "    Q3 = df[col].quantile(0.75)\n",
    "    IQR = Q3 - Q1\n",
    "    lower = Q1 - 1.5 * IQR\n",
    "    upper = Q3 + 1.5 * IQR\n",
    "    outliers = df[(df[col] < lower) | (df[col] > upper)]\n",
    "    print(f\"{col} → Outliers count: {outliers.shape[0]}\")\n",
    "    return outliers\n"
   ]
  },
  {
   "cell_type": "code",
   "execution_count": 10,
   "id": "21292bd7-5a63-40fc-aa01-1c186469b456",
   "metadata": {},
   "outputs": [
    {
     "name": "stdout",
     "output_type": "stream",
     "text": [
      "\n",
      "--- Outlier Detection ---\n",
      "math_score → Outliers count: 8\n",
      "reading_score → Outliers count: 8\n",
      "writing_score → Outliers count: 5\n"
     ]
    },
    {
     "data": {
      "text/html": [
       "<div>\n",
       "<style scoped>\n",
       "    .dataframe tbody tr th:only-of-type {\n",
       "        vertical-align: middle;\n",
       "    }\n",
       "\n",
       "    .dataframe tbody tr th {\n",
       "        vertical-align: top;\n",
       "    }\n",
       "\n",
       "    .dataframe thead th {\n",
       "        text-align: right;\n",
       "    }\n",
       "</style>\n",
       "<table border=\"1\" class=\"dataframe\">\n",
       "  <thead>\n",
       "    <tr style=\"text-align: right;\">\n",
       "      <th></th>\n",
       "      <th>gender</th>\n",
       "      <th>race/ethnicity</th>\n",
       "      <th>parental level of education</th>\n",
       "      <th>lunch</th>\n",
       "      <th>test_preparation_course</th>\n",
       "      <th>math_score</th>\n",
       "      <th>reading_score</th>\n",
       "      <th>writing_score</th>\n",
       "    </tr>\n",
       "  </thead>\n",
       "  <tbody>\n",
       "    <tr>\n",
       "      <th>59</th>\n",
       "      <td>female</td>\n",
       "      <td>group C</td>\n",
       "      <td>some high school</td>\n",
       "      <td>free/reduced</td>\n",
       "      <td>none</td>\n",
       "      <td>0.0</td>\n",
       "      <td>17.0</td>\n",
       "      <td>10.0</td>\n",
       "    </tr>\n",
       "    <tr>\n",
       "      <th>76</th>\n",
       "      <td>male</td>\n",
       "      <td>group E</td>\n",
       "      <td>some high school</td>\n",
       "      <td>standard</td>\n",
       "      <td>none</td>\n",
       "      <td>30.0</td>\n",
       "      <td>26.0</td>\n",
       "      <td>22.0</td>\n",
       "    </tr>\n",
       "    <tr>\n",
       "      <th>327</th>\n",
       "      <td>male</td>\n",
       "      <td>group A</td>\n",
       "      <td>some college</td>\n",
       "      <td>free/reduced</td>\n",
       "      <td>none</td>\n",
       "      <td>28.0</td>\n",
       "      <td>23.0</td>\n",
       "      <td>19.0</td>\n",
       "    </tr>\n",
       "    <tr>\n",
       "      <th>596</th>\n",
       "      <td>male</td>\n",
       "      <td>group B</td>\n",
       "      <td>high school</td>\n",
       "      <td>free/reduced</td>\n",
       "      <td>none</td>\n",
       "      <td>30.0</td>\n",
       "      <td>24.0</td>\n",
       "      <td>15.0</td>\n",
       "    </tr>\n",
       "    <tr>\n",
       "      <th>980</th>\n",
       "      <td>female</td>\n",
       "      <td>group B</td>\n",
       "      <td>high school</td>\n",
       "      <td>free/reduced</td>\n",
       "      <td>none</td>\n",
       "      <td>8.0</td>\n",
       "      <td>24.0</td>\n",
       "      <td>23.0</td>\n",
       "    </tr>\n",
       "  </tbody>\n",
       "</table>\n",
       "</div>"
      ],
      "text/plain": [
       "     gender race/ethnicity parental level of education         lunch  \\\n",
       "59   female        group C            some high school  free/reduced   \n",
       "76     male        group E            some high school      standard   \n",
       "327    male        group A                some college  free/reduced   \n",
       "596    male        group B                 high school  free/reduced   \n",
       "980  female        group B                 high school  free/reduced   \n",
       "\n",
       "    test_preparation_course  math_score  reading_score  writing_score  \n",
       "59                     none         0.0           17.0           10.0  \n",
       "76                     none        30.0           26.0           22.0  \n",
       "327                    none        28.0           23.0           19.0  \n",
       "596                    none        30.0           24.0           15.0  \n",
       "980                    none         8.0           24.0           23.0  "
      ]
     },
     "execution_count": 10,
     "metadata": {},
     "output_type": "execute_result"
    }
   ],
   "source": [
    "print(\"\\n--- Outlier Detection ---\")\n",
    "detect_outliers(\"math_score\")\n",
    "detect_outliers(\"reading_score\")\n",
    "detect_outliers(\"writing_score\")"
   ]
  },
  {
   "cell_type": "code",
   "execution_count": 11,
   "id": "9c86ea7c-96db-4dcb-b434-87ceeb2ef9c5",
   "metadata": {},
   "outputs": [
    {
     "data": {
      "text/plain": [
       "<Axes: >"
      ]
     },
     "execution_count": 11,
     "metadata": {},
     "output_type": "execute_result"
    },
    {
     "data": {
      "image/png": "[encoded data removed]",
      "text/plain": [
       "<Figure size 640x480 with 1 Axes>"
      ]
     },
     "metadata": {},
     "output_type": "display_data"
    }
   ],
   "source": [
    "col = ['math_score','reading_score','writing_score']\n",
    "df.boxplot(col)"
   ]
  },
  {
   "cell_type": "code",
   "execution_count": 12,
   "id": "4135b620-78f6-46f5-8279-10ca4274f22b",
   "metadata": {},
   "outputs": [
    {
     "name": "stdout",
     "output_type": "stream",
     "text": [
      "(array([ 34, 104, 114, 121, 149, 165, 171, 179, 233, 263, 286, 306, 451,\n",
      "       458, 469, 501, 503, 521, 539, 546, 562, 566, 571, 594, 612, 618,\n",
      "       623, 625, 685, 689, 710, 712, 717, 719, 736, 779, 784, 815, 846,\n",
      "       855, 864, 886, 903, 916, 919, 934, 950, 957, 962, 979]),)\n",
      "(array([ 59, 327, 596, 980]),)\n",
      "(array([ 17,  59,  76, 211, 327, 338, 596, 896, 980]),)\n"
     ]
    }
   ],
   "source": [
    "print(np.where(df['math_score']>90))\n",
    "print(np.where(df['reading_score']<25))\n",
    "print(np.where(df['writing_score']<30))"
   ]
  },
  {
   "cell_type": "code",
   "execution_count": 13,
   "id": "d128149d-dd4e-41cf-8f0a-bde62fd8ca53",
   "metadata": {},
   "outputs": [],
   "source": [
    "df['placement_score'] = df[['math_score','reading_score','writing_score']].mean(axis=1)\n",
    "df.loc[df['test_preparation_course'] == 'completed','placement_score'] += 5"
   ]
  },
  {
   "cell_type": "code",
   "execution_count": 14,
   "id": "e5299958-51aa-42fa-b12c-fb177024c8e1",
   "metadata": {},
   "outputs": [],
   "source": [
    "df['placement_offer_count'] = df['placement_score'].apply(lambda x: 3 if x > 85 else (2 if x > 70 else 1))"
   ]
  },
  {
   "cell_type": "code",
   "execution_count": 15,
   "id": "77f078ec-4afa-4052-ae0c-3add36d6b65c",
   "metadata": {},
   "outputs": [
    {
     "data": {
      "image/png": "[encoded data removed]",
      "text/plain": [
       "<Figure size 1000x600 with 1 Axes>"
      ]
     },
     "metadata": {},
     "output_type": "display_data"
    }
   ],
   "source": [
    "fig, ax = plt.subplots(figsize=(10,6))\n",
    "ax.scatter(df['placement_score'], df['placement_offer_count'])\n",
    "ax.set_xlabel('placement_score')\n",
    "ax.set_ylabel('placement_offer_count')\n",
    "plt.title(\"Scatter Plot for Outlier Detection\")\n",
    "plt.show()"
   ]
  },
  {
   "cell_type": "code",
   "execution_count": 16,
   "id": "31c4c7e7-7efe-4c61-b2f5-c51a36e287c0",
   "metadata": {},
   "outputs": [
    {
     "name": "stdout",
     "output_type": "stream",
     "text": [
      "(array([], dtype=int64),)\n",
      "(array([], dtype=int64),)\n"
     ]
    }
   ],
   "source": [
    "print(np.where((df['placement_score']<50) & (df['placement_offer_count']>1)))\n",
    "print(np.where((df['placement_score']>85) & (df['placement_offer_count']<3)))"
   ]
  },
  {
   "cell_type": "code",
   "execution_count": 17,
   "id": "e96c00c4-0203-4460-bbe8-589aa187e3dd",
   "metadata": {},
   "outputs": [
    {
     "data": {
      "image/png": "[encoded data removed]",
      "text/plain": [
       "<Figure size 1000x600 with 1 Axes>"
      ]
     },
     "metadata": {},
     "output_type": "display_data"
    }
   ],
   "source": [
    "plt.figure(figsize=(10,6))\n",
    "df.boxplot(column=['math_score','reading_score','writing_score'])\n",
    "plt.title(\"Boxplot for Outlier Detection\")\n",
    "plt.show()"
   ]
  },
  {
   "cell_type": "code",
   "execution_count": 18,
   "id": "0d48b826-f945-4658-9124-0b5a8565693d",
   "metadata": {},
   "outputs": [
    {
     "name": "stdout",
     "output_type": "stream",
     "text": [
      "Outliers based on Z-Score: (array([ 17,  59,  59,  59,  76, 327, 327, 596, 596, 787, 980, 980]), array([0, 0, 1, 2, 2, 1, 2, 1, 2, 0, 0, 1]))\n"
     ]
    }
   ],
   "source": [
    "z_scores = np.abs(stats.zscore(df[['math_score', 'reading_score','writing_score']]))\n",
    "threshold = 3\n",
    "outliers_z = np.where(z_scores > threshold)\n",
    "print(\"Outliers based on Z-Score:\", outliers_z)"
   ]
  },
  {
   "cell_type": "code",
   "execution_count": 20,
   "id": "273f093d-963c-41ac-b1eb-1f708ed00bf6",
   "metadata": {},
   "outputs": [
    {
     "data": {
      "image/png": "[encoded data removed]",
      "text/plain": [
       "<Figure size 1200x500 with 2 Axes>"
      ]
     },
     "metadata": {},
     "output_type": "display_data"
    }
   ],
   "source": [
    "# ✅ 3. Data Transformation\n",
    "# Apply log transformation to reduce skewness of math_score\n",
    "df['math_score_log'] = np.log1p(df['math_score'])\n",
    "\n",
    "# Plot before/after\n",
    "plt.figure(figsize=(12, 5))\n",
    "\n",
    "plt.subplot(1, 2, 1)\n",
    "sns.histplot(df['math_score'], kde=True, bins=30)\n",
    "plt.title(\"Original math_score distribution\")\n",
    "\n",
    "plt.subplot(1, 2, 2)\n",
    "sns.histplot(df['math_score_log'], kde=True, bins=30)\n",
    "plt.title(\"Log-transformed math_score distribution\")\n",
    "\n",
    "plt.tight_layout()\n",
    "plt.show()"
   ]
  },
  {
   "cell_type": "code",
   "execution_count": 21,
   "id": "4dc7746e-620b-49a6-a924-a44f8d491530",
   "metadata": {},
   "outputs": [],
   "source": [
    "df['total_score'] = df['math_score'] + df['reading_score'] + df['writing_score']\n"
   ]
  },
  {
   "cell_type": "code",
   "execution_count": 22,
   "id": "56ce0e1b-8772-4b58-b390-77ccee2feb57",
   "metadata": {},
   "outputs": [],
   "source": [
    "df['average_score'] = df['total_score'] / 3\n"
   ]
  },
  {
   "cell_type": "code",
   "execution_count": 23,
   "id": "870c8831-da22-45c4-8b29-87d24328ef51",
   "metadata": {},
   "outputs": [],
   "source": [
    "df['performance'] = pd.cut(df['average_score'], bins=[0, 50, 70, 85, 100],\n",
    "                           labels=[\"Poor\", \"Average\", \"Good\", \"Excellent\"])\n"
   ]
  },
  {
   "cell_type": "code",
   "execution_count": 24,
   "id": "12e4a38f-15ea-4556-97f5-260252fdafca",
   "metadata": {
    "scrolled": true
   },
   "outputs": [
    {
     "data": {
      "text/html": [
       "<div>\n",
       "<style scoped>\n",
       "    .dataframe tbody tr th:only-of-type {\n",
       "        vertical-align: middle;\n",
       "    }\n",
       "\n",
       "    .dataframe tbody tr th {\n",
       "        vertical-align: top;\n",
       "    }\n",
       "\n",
       "    .dataframe thead th {\n",
       "        text-align: right;\n",
       "    }\n",
       "</style>\n",
       "<table border=\"1\" class=\"dataframe\">\n",
       "  <thead>\n",
       "    <tr style=\"text-align: right;\">\n",
       "      <th></th>\n",
       "      <th>gender</th>\n",
       "      <th>race/ethnicity</th>\n",
       "      <th>parental level of education</th>\n",
       "      <th>lunch</th>\n",
       "      <th>test_preparation_course</th>\n",
       "      <th>math_score</th>\n",
       "      <th>reading_score</th>\n",
       "      <th>writing_score</th>\n",
       "      <th>placement_score</th>\n",
       "      <th>placement_offer_count</th>\n",
       "      <th>math_score_log</th>\n",
       "      <th>total_score</th>\n",
       "      <th>average_score</th>\n",
       "      <th>performance</th>\n",
       "    </tr>\n",
       "  </thead>\n",
       "  <tbody>\n",
       "    <tr>\n",
       "      <th>0</th>\n",
       "      <td>female</td>\n",
       "      <td>group B</td>\n",
       "      <td>bachelor's degree</td>\n",
       "      <td>standard</td>\n",
       "      <td>none</td>\n",
       "      <td>72.0</td>\n",
       "      <td>72.0</td>\n",
       "      <td>74.0</td>\n",
       "      <td>72.666667</td>\n",
       "      <td>2</td>\n",
       "      <td>4.290459</td>\n",
       "      <td>218.0</td>\n",
       "      <td>72.666667</td>\n",
       "      <td>Good</td>\n",
       "    </tr>\n",
       "    <tr>\n",
       "      <th>1</th>\n",
       "      <td>female</td>\n",
       "      <td>group C</td>\n",
       "      <td>some college</td>\n",
       "      <td>standard</td>\n",
       "      <td>completed</td>\n",
       "      <td>69.0</td>\n",
       "      <td>90.0</td>\n",
       "      <td>88.0</td>\n",
       "      <td>87.333333</td>\n",
       "      <td>3</td>\n",
       "      <td>4.248495</td>\n",
       "      <td>247.0</td>\n",
       "      <td>82.333333</td>\n",
       "      <td>Good</td>\n",
       "    </tr>\n",
       "    <tr>\n",
       "      <th>2</th>\n",
       "      <td>female</td>\n",
       "      <td>group B</td>\n",
       "      <td>master's degree</td>\n",
       "      <td>standard</td>\n",
       "      <td>none</td>\n",
       "      <td>90.0</td>\n",
       "      <td>95.0</td>\n",
       "      <td>93.0</td>\n",
       "      <td>92.666667</td>\n",
       "      <td>3</td>\n",
       "      <td>4.510860</td>\n",
       "      <td>278.0</td>\n",
       "      <td>92.666667</td>\n",
       "      <td>Excellent</td>\n",
       "    </tr>\n",
       "    <tr>\n",
       "      <th>3</th>\n",
       "      <td>male</td>\n",
       "      <td>group A</td>\n",
       "      <td>associate's degree</td>\n",
       "      <td>free/reduced</td>\n",
       "      <td>none</td>\n",
       "      <td>47.0</td>\n",
       "      <td>57.0</td>\n",
       "      <td>44.0</td>\n",
       "      <td>49.333333</td>\n",
       "      <td>1</td>\n",
       "      <td>3.871201</td>\n",
       "      <td>148.0</td>\n",
       "      <td>49.333333</td>\n",
       "      <td>Poor</td>\n",
       "    </tr>\n",
       "    <tr>\n",
       "      <th>4</th>\n",
       "      <td>male</td>\n",
       "      <td>group C</td>\n",
       "      <td>some college</td>\n",
       "      <td>standard</td>\n",
       "      <td>none</td>\n",
       "      <td>76.0</td>\n",
       "      <td>78.0</td>\n",
       "      <td>75.0</td>\n",
       "      <td>76.333333</td>\n",
       "      <td>2</td>\n",
       "      <td>4.343805</td>\n",
       "      <td>229.0</td>\n",
       "      <td>76.333333</td>\n",
       "      <td>Good</td>\n",
       "    </tr>\n",
       "    <tr>\n",
       "      <th>...</th>\n",
       "      <td>...</td>\n",
       "      <td>...</td>\n",
       "      <td>...</td>\n",
       "      <td>...</td>\n",
       "      <td>...</td>\n",
       "      <td>...</td>\n",
       "      <td>...</td>\n",
       "      <td>...</td>\n",
       "      <td>...</td>\n",
       "      <td>...</td>\n",
       "      <td>...</td>\n",
       "      <td>...</td>\n",
       "      <td>...</td>\n",
       "      <td>...</td>\n",
       "    </tr>\n",
       "    <tr>\n",
       "      <th>995</th>\n",
       "      <td>female</td>\n",
       "      <td>group E</td>\n",
       "      <td>master's degree</td>\n",
       "      <td>standard</td>\n",
       "      <td>completed</td>\n",
       "      <td>88.0</td>\n",
       "      <td>99.0</td>\n",
       "      <td>95.0</td>\n",
       "      <td>99.000000</td>\n",
       "      <td>3</td>\n",
       "      <td>4.488636</td>\n",
       "      <td>282.0</td>\n",
       "      <td>94.000000</td>\n",
       "      <td>Excellent</td>\n",
       "    </tr>\n",
       "    <tr>\n",
       "      <th>996</th>\n",
       "      <td>male</td>\n",
       "      <td>group C</td>\n",
       "      <td>high school</td>\n",
       "      <td>free/reduced</td>\n",
       "      <td>none</td>\n",
       "      <td>62.0</td>\n",
       "      <td>55.0</td>\n",
       "      <td>55.0</td>\n",
       "      <td>57.333333</td>\n",
       "      <td>1</td>\n",
       "      <td>4.143135</td>\n",
       "      <td>172.0</td>\n",
       "      <td>57.333333</td>\n",
       "      <td>Average</td>\n",
       "    </tr>\n",
       "    <tr>\n",
       "      <th>997</th>\n",
       "      <td>female</td>\n",
       "      <td>group C</td>\n",
       "      <td>high school</td>\n",
       "      <td>free/reduced</td>\n",
       "      <td>completed</td>\n",
       "      <td>59.0</td>\n",
       "      <td>71.0</td>\n",
       "      <td>65.0</td>\n",
       "      <td>70.000000</td>\n",
       "      <td>1</td>\n",
       "      <td>4.094345</td>\n",
       "      <td>195.0</td>\n",
       "      <td>65.000000</td>\n",
       "      <td>Average</td>\n",
       "    </tr>\n",
       "    <tr>\n",
       "      <th>998</th>\n",
       "      <td>female</td>\n",
       "      <td>group D</td>\n",
       "      <td>some college</td>\n",
       "      <td>standard</td>\n",
       "      <td>completed</td>\n",
       "      <td>68.0</td>\n",
       "      <td>78.0</td>\n",
       "      <td>77.0</td>\n",
       "      <td>79.333333</td>\n",
       "      <td>2</td>\n",
       "      <td>4.234107</td>\n",
       "      <td>223.0</td>\n",
       "      <td>74.333333</td>\n",
       "      <td>Good</td>\n",
       "    </tr>\n",
       "    <tr>\n",
       "      <th>999</th>\n",
       "      <td>female</td>\n",
       "      <td>group D</td>\n",
       "      <td>some college</td>\n",
       "      <td>free/reduced</td>\n",
       "      <td>none</td>\n",
       "      <td>77.0</td>\n",
       "      <td>86.0</td>\n",
       "      <td>86.0</td>\n",
       "      <td>83.000000</td>\n",
       "      <td>2</td>\n",
       "      <td>4.356709</td>\n",
       "      <td>249.0</td>\n",
       "      <td>83.000000</td>\n",
       "      <td>Good</td>\n",
       "    </tr>\n",
       "  </tbody>\n",
       "</table>\n",
       "<p>1000 rows × 14 columns</p>\n",
       "</div>"
      ],
      "text/plain": [
       "     gender race/ethnicity parental level of education         lunch  \\\n",
       "0    female        group B           bachelor's degree      standard   \n",
       "1    female        group C                some college      standard   \n",
       "2    female        group B             master's degree      standard   \n",
       "3      male        group A          associate's degree  free/reduced   \n",
       "4      male        group C                some college      standard   \n",
       "..      ...            ...                         ...           ...   \n",
       "995  female        group E             master's degree      standard   \n",
       "996    male        group C                 high school  free/reduced   \n",
       "997  female        group C                 high school  free/reduced   \n",
       "998  female        group D                some college      standard   \n",
       "999  female        group D                some college  free/reduced   \n",
       "\n",
       "    test_preparation_course  math_score  reading_score  writing_score  \\\n",
       "0                      none        72.0           72.0           74.0   \n",
       "1                 completed        69.0           90.0           88.0   \n",
       "2                      none        90.0           95.0           93.0   \n",
       "3                      none        47.0           57.0           44.0   \n",
       "4                      none        76.0           78.0           75.0   \n",
       "..                      ...         ...            ...            ...   \n",
       "995               completed        88.0           99.0           95.0   \n",
       "996                    none        62.0           55.0           55.0   \n",
       "997               completed        59.0           71.0           65.0   \n",
       "998               completed        68.0           78.0           77.0   \n",
       "999                    none        77.0           86.0           86.0   \n",
       "\n",
       "     placement_score  placement_offer_count  math_score_log  total_score  \\\n",
       "0          72.666667                      2        4.290459        218.0   \n",
       "1          87.333333                      3        4.248495        247.0   \n",
       "2          92.666667                      3        4.510860        278.0   \n",
       "3          49.333333                      1        3.871201        148.0   \n",
       "4          76.333333                      2        4.343805        229.0   \n",
       "..               ...                    ...             ...          ...   \n",
       "995        99.000000                      3        4.488636        282.0   \n",
       "996        57.333333                      1        4.143135        172.0   \n",
       "997        70.000000                      1        4.094345        195.0   \n",
       "998        79.333333                      2        4.234107        223.0   \n",
       "999        83.000000                      2        4.356709        249.0   \n",
       "\n",
       "     average_score performance  \n",
       "0        72.666667        Good  \n",
       "1        82.333333        Good  \n",
       "2        92.666667   Excellent  \n",
       "3        49.333333        Poor  \n",
       "4        76.333333        Good  \n",
       "..             ...         ...  \n",
       "995      94.000000   Excellent  \n",
       "996      57.333333     Average  \n",
       "997      65.000000     Average  \n",
       "998      74.333333        Good  \n",
       "999      83.000000        Good  \n",
       "\n",
       "[1000 rows x 14 columns]"
      ]
     },
     "execution_count": 24,
     "metadata": {},
     "output_type": "execute_result"
    }
   ],
   "source": [
    "df"
   ]
  },
  {
   "cell_type": "code",
   "execution_count": 25,
   "id": "e58d61fe-e215-46a4-8253-a126a62c083c",
   "metadata": {},
   "outputs": [],
   "source": [
    "from sklearn.preprocessing import StandardScaler\n",
    "scaler = StandardScaler()\n",
    "df[['math_score_scaled', 'reading_score_scaled', 'writing_score_scaled']] = scaler.fit_transform(df[['math_score', 'reading_score', 'writing_score']])\n"
   ]
  },
  {
   "cell_type": "code",
   "execution_count": null,
   "id": "ba1e63e6-b212-4b50-bfa4-a37d6f980799",
   "metadata": {},
   "outputs": [],
   "source": []
  }
 ],
 "metadata": {
  "kernelspec": {
   "display_name": "Python 3 (ipykernel)",
   "language": "python",
   "name": "python3"
  },
  "language_info": {
   "codemirror_mode": {
    "name": "ipython",
    "version": 3
   },
   "file_extension": ".py",
   "mimetype": "text/x-python",
   "name": "python",
   "nbconvert_exporter": "python",
   "pygments_lexer": "ipython3",
   "version": "3.11.11"
  }
 },
 "nbformat": 4,
 "nbformat_minor": 5
}
