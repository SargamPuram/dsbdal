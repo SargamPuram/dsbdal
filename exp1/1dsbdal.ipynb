{
 "cells": [
  {
   "cell_type": "code",
   "execution_count": 1,
   "id": "880e6109-682f-4e5d-b2ac-9ee8194c1e44",
   "metadata": {},
   "outputs": [
    {
     "name": "stdout",
     "output_type": "stream",
     "text": [
      "Requirement already satisfied: pandas in /home/sargam/.conda/envs/myenv/lib/python3.11/site-packages (2.2.3)\n",
      "Requirement already satisfied: scikit-learn in /home/sargam/.conda/envs/myenv/lib/python3.11/site-packages (1.6.1)\n",
      "Requirement already satisfied: numpy>=1.23.2 in /home/sargam/.conda/envs/myenv/lib/python3.11/site-packages (from pandas) (2.0.1)\n",
      "Requirement already satisfied: python-dateutil>=2.8.2 in /home/sargam/.conda/envs/myenv/lib/python3.11/site-packages (from pandas) (2.9.0.post0)\n",
      "Requirement already satisfied: pytz>=2020.1 in /home/sargam/.conda/envs/myenv/lib/python3.11/site-packages (from pandas) (2024.1)\n",
      "Requirement already satisfied: tzdata>=2022.7 in /home/sargam/.conda/envs/myenv/lib/python3.11/site-packages (from pandas) (2025.2)\n",
      "Requirement already satisfied: scipy>=1.6.0 in /home/sargam/.conda/envs/myenv/lib/python3.11/site-packages (from scikit-learn) (1.15.2)\n",
      "Requirement already satisfied: joblib>=1.2.0 in /home/sargam/.conda/envs/myenv/lib/python3.11/site-packages (from scikit-learn) (1.5.0)\n",
      "Requirement already satisfied: threadpoolctl>=3.1.0 in /home/sargam/.conda/envs/myenv/lib/python3.11/site-packages (from scikit-learn) (3.6.0)\n",
      "Requirement already satisfied: six>=1.5 in /home/sargam/.conda/envs/myenv/lib/python3.11/site-packages (from python-dateutil>=2.8.2->pandas) (1.17.0)\n"
     ]
    }
   ],
   "source": [
    "!pip install pandas scikit-learn"
   ]
  },
  {
   "cell_type": "code",
   "execution_count": 2,
   "id": "24582d14-87a1-4392-ab1c-aa827338e5dd",
   "metadata": {},
   "outputs": [],
   "source": [
    "# -------------------------------------\n",
    "# 2. Import Required Libraries\n",
    "# -------------------------------------\n",
    "import pandas as pd\n",
    "from sklearn import preprocessing\n",
    "from sklearn.datasets import load_iris\n"
   ]
  },
  {
   "cell_type": "code",
   "execution_count": 3,
   "id": "b97c6aa9-5999-469b-bcf6-41749ef39fde",
   "metadata": {},
   "outputs": [
    {
     "data": {
      "text/plain": [
       "'\\nDataset: Iris Flower Dataset\\nDescription: This dataset consists of 150 samples from three species of Iris flowers \\n(setosa, versicolor, virginica). Each sample contains four features: \\nsepal length, sepal width, petal length, and petal width.\\n\\nSource URL: https://archive.ics.uci.edu/ml/datasets/iris\\n'"
      ]
     },
     "execution_count": 3,
     "metadata": {},
     "output_type": "execute_result"
    }
   ],
   "source": [
    "# -------------------------------------\n",
    "# 3. Dataset Description and Source\n",
    "# -------------------------------------\n",
    "\"\"\"\n",
    "Dataset: Iris Flower Dataset\n",
    "Description: This dataset consists of 150 samples from three species of Iris flowers \n",
    "(setosa, versicolor, virginica). Each sample contains four features: \n",
    "sepal length, sepal width, petal length, and petal width.\n",
    "\n",
    "Source URL: https://archive.ics.uci.edu/ml/datasets/iris\n",
    "\"\"\"\n"
   ]
  },
  {
   "cell_type": "code",
   "execution_count": 4,
   "id": "6ffdc2ea-5257-4807-83a7-291a0dd3738b",
   "metadata": {},
   "outputs": [
    {
     "name": "stdout",
     "output_type": "stream",
     "text": [
      "🔹 First 5 rows of the Iris Dataset:\n",
      "   sepal length (cm)  sepal width (cm)  petal length (cm)  petal width (cm)  \\\n",
      "0                5.1               3.5                1.4               0.2   \n",
      "1                4.9               3.0                1.4               0.2   \n",
      "2                4.7               3.2                1.3               0.2   \n",
      "3                4.6               3.1                1.5               0.2   \n",
      "4                5.0               3.6                1.4               0.2   \n",
      "\n",
      "  Species  \n",
      "0  setosa  \n",
      "1  setosa  \n",
      "2  setosa  \n",
      "3  setosa  \n",
      "4  setosa  \n"
     ]
    }
   ],
   "source": [
    "# -------------------------------------\n",
    "# 4. Load Dataset into Pandas DataFrame\n",
    "# -------------------------------------\n",
    "iris = load_iris()\n",
    "df = pd.DataFrame(iris.data, columns=iris.feature_names)\n",
    "df['Species'] = pd.Categorical.from_codes(iris.target, iris.target_names)\n",
    "\n",
    "print(\"🔹 First 5 rows of the Iris Dataset:\")\n",
    "print(df.head())"
   ]
  },
  {
   "cell_type": "code",
   "execution_count": 5,
   "id": "02abefd0-3332-4fca-be8f-7e18517ad215",
   "metadata": {},
   "outputs": [
    {
     "name": "stdout",
     "output_type": "stream",
     "text": [
      "\n",
      "🔍 Dataset Info:\n",
      "<class 'pandas.core.frame.DataFrame'>\n",
      "RangeIndex: 150 entries, 0 to 149\n",
      "Data columns (total 5 columns):\n",
      " #   Column             Non-Null Count  Dtype   \n",
      "---  ------             --------------  -----   \n",
      " 0   sepal length (cm)  150 non-null    float64 \n",
      " 1   sepal width (cm)   150 non-null    float64 \n",
      " 2   petal length (cm)  150 non-null    float64 \n",
      " 3   petal width (cm)   150 non-null    float64 \n",
      " 4   Species            150 non-null    category\n",
      "dtypes: category(1), float64(4)\n",
      "memory usage: 5.1 KB\n",
      "None\n"
     ]
    }
   ],
   "source": [
    "# -------------------------------------\n",
    "# 5. Initial Exploration and Preprocessing\n",
    "# -------------------------------------\n",
    "print(\"\\n🔍 Dataset Info:\")\n",
    "print(df.info())"
   ]
  },
  {
   "cell_type": "code",
   "execution_count": 6,
   "id": "dea697e0-b506-4ab2-a007-bbdbc0664657",
   "metadata": {},
   "outputs": [
    {
     "name": "stdout",
     "output_type": "stream",
     "text": [
      "\n",
      "📊 Dataset Statistics:\n",
      "       sepal length (cm)  sepal width (cm)  petal length (cm)  \\\n",
      "count         150.000000        150.000000         150.000000   \n",
      "mean            5.843333          3.057333           3.758000   \n",
      "std             0.828066          0.435866           1.765298   \n",
      "min             4.300000          2.000000           1.000000   \n",
      "25%             5.100000          2.800000           1.600000   \n",
      "50%             5.800000          3.000000           4.350000   \n",
      "75%             6.400000          3.300000           5.100000   \n",
      "max             7.900000          4.400000           6.900000   \n",
      "\n",
      "       petal width (cm)  \n",
      "count        150.000000  \n",
      "mean           1.199333  \n",
      "std            0.762238  \n",
      "min            0.100000  \n",
      "25%            0.300000  \n",
      "50%            1.300000  \n",
      "75%            1.800000  \n",
      "max            2.500000  \n"
     ]
    }
   ],
   "source": [
    "print(\"\\n📊 Dataset Statistics:\")\n",
    "print(df.describe())"
   ]
  },
  {
   "cell_type": "code",
   "execution_count": 7,
   "id": "30e067b7-aa00-4da7-afd0-84e69d5769e0",
   "metadata": {},
   "outputs": [
    {
     "name": "stdout",
     "output_type": "stream",
     "text": [
      "\n",
      "❓ Missing Values:\n",
      "sepal length (cm)    0\n",
      "sepal width (cm)     0\n",
      "petal length (cm)    0\n",
      "petal width (cm)     0\n",
      "Species              0\n",
      "dtype: int64\n"
     ]
    }
   ],
   "source": [
    "print(\"\\n❓ Missing Values:\")\n",
    "print(df.isnull().sum())\n"
   ]
  },
  {
   "cell_type": "code",
   "execution_count": 8,
   "id": "d34d2ffa-6ca0-4bc1-be5c-9bc62b17d877",
   "metadata": {},
   "outputs": [
    {
     "name": "stdout",
     "output_type": "stream",
     "text": [
      "['setosa', 'versicolor', 'virginica']\n",
      "Categories (3, object): ['setosa', 'versicolor', 'virginica']\n"
     ]
    }
   ],
   "source": [
    "\n",
    "print(df['Species'].unique())\n"
   ]
  },
  {
   "cell_type": "code",
   "execution_count": 9,
   "id": "ed1944b3-9d2a-4c24-bc4f-a7be07e1ac46",
   "metadata": {},
   "outputs": [
    {
     "name": "stdout",
     "output_type": "stream",
     "text": [
      "\n",
      "Data Types:\n",
      "sepal length (cm)     float64\n",
      "sepal width (cm)      float64\n",
      "petal length (cm)     float64\n",
      "petal width (cm)      float64\n",
      "Species              category\n",
      "dtype: object\n"
     ]
    }
   ],
   "source": [
    "# -------------------------------------\n",
    "# 6. Check and Convert Data Types if Needed\n",
    "# -------------------------------------\n",
    "print(\"\\nData Types:\")\n",
    "print(df.dtypes)"
   ]
  },
  {
   "cell_type": "code",
   "execution_count": 10,
   "id": "ebaa234a-26f5-473f-9f7c-f450209a45a6",
   "metadata": {},
   "outputs": [],
   "source": [
    "# -------------------------------------\n",
    "# 7. Normalize Numeric Features (Min-Max Scaling)\n",
    "# -------------------------------------\n",
    "min_max_scaler = preprocessing.MinMaxScaler()\n",
    "x = df.iloc[:, :-1]  # Only numeric columns\n",
    "x_scaled = min_max_scaler.fit_transform(x)\n"
   ]
  },
  {
   "cell_type": "code",
   "execution_count": 11,
   "id": "a41e9a9b-4a80-4047-b4ce-5b8174682cb1",
   "metadata": {},
   "outputs": [
    {
     "name": "stdout",
     "output_type": "stream",
     "text": [
      "\n",
      "✅ Normalized Dataset Preview:\n",
      "   sepal length (cm)  sepal width (cm)  petal length (cm)  petal width (cm)\n",
      "0           0.222222          0.625000           0.067797          0.041667\n",
      "1           0.166667          0.416667           0.067797          0.041667\n",
      "2           0.111111          0.500000           0.050847          0.041667\n",
      "3           0.083333          0.458333           0.084746          0.041667\n",
      "4           0.194444          0.666667           0.067797          0.041667\n"
     ]
    }
   ],
   "source": [
    "df_normalized = pd.DataFrame(x_scaled, columns=iris.feature_names)\n",
    "print(\"\\n✅ Normalized Dataset Preview:\")\n",
    "print(df_normalized.head())"
   ]
  },
  {
   "cell_type": "code",
   "execution_count": 12,
   "id": "b6654985-ea0d-442f-8c5f-2641a480c471",
   "metadata": {},
   "outputs": [
    {
     "name": "stdout",
     "output_type": "stream",
     "text": [
      "\n",
      "Unique values in Species column before Label Encoding:\n",
      "['setosa', 'versicolor', 'virginica']\n",
      "Categories (3, object): ['setosa', 'versicolor', 'virginica']\n"
     ]
    }
   ],
   "source": [
    "print(\"\\nUnique values in Species column before Label Encoding:\")\n",
    "print(df['Species'].unique())"
   ]
  },
  {
   "cell_type": "code",
   "execution_count": 15,
   "id": "f508a019-52c4-4d46-a4dd-70883f3e7e27",
   "metadata": {},
   "outputs": [
    {
     "name": "stdout",
     "output_type": "stream",
     "text": [
      "\n",
      "Species After Label Encoding:\n",
      "[0 1 2]\n"
     ]
    }
   ],
   "source": [
    "# -------------------------------------\n",
    "# 8. Label Encoding (Convert Species to Numeric)\n",
    "# -------------------------------------\n",
    "label_encoder = preprocessing.LabelEncoder()\n",
    "df['Species_Label'] = label_encoder.fit_transform(df['Species'])\n",
    "\n",
    "print(\"\\nSpecies After Label Encoding:\")\n",
    "print(df['Species_Label'].unique())\n"
   ]
  },
  {
   "cell_type": "code",
   "execution_count": 17,
   "id": "4593d438-b288-4e23-860d-a9b2798e60df",
   "metadata": {
    "scrolled": true
   },
   "outputs": [
    {
     "name": "stdout",
     "output_type": "stream",
     "text": [
      "\n",
      "🔍 One-Hot Encoding Preview:\n",
      "   sepal length (cm)  sepal width (cm)  petal length (cm)  petal width (cm)  \\\n",
      "0                5.1               3.5                1.4               0.2   \n",
      "1                4.9               3.0                1.4               0.2   \n",
      "2                4.7               3.2                1.3               0.2   \n",
      "3                4.6               3.1                1.5               0.2   \n",
      "4                5.0               3.6                1.4               0.2   \n",
      "\n",
      "   Iris-Setosa  Iris-Versicolor  Iris-Virginica  \n",
      "0          1.0              0.0             0.0  \n",
      "1          1.0              0.0             0.0  \n",
      "2          1.0              0.0             0.0  \n",
      "3          1.0              0.0             0.0  \n",
      "4          1.0              0.0             0.0  \n"
     ]
    }
   ],
   "source": [
    "# -------------------------------------\n",
    "# 9. One-Hot Encoding\n",
    "# -------------------------------------\n",
    "print(\"\\n🔍 One-Hot Encoding Preview:\")\n",
    "enc = preprocessing.OneHotEncoder(sparse_output=False)\n",
    "enc_df = pd.DataFrame(enc.fit_transform(df[['Species_Label']]))\n",
    "enc_df.columns = ['Iris-Setosa', 'Iris-Versicolor', 'Iris-Virginica']\n",
    "df_one_hot = df.drop(columns=['Species', 'Species_Label']).join(enc_df)\n",
    "print(df_one_hot.head())\n"
   ]
  },
  {
   "cell_type": "code",
   "execution_count": 18,
   "id": "22aa0da3-609b-40e7-9ee4-6b641bc70225",
   "metadata": {},
   "outputs": [
    {
     "name": "stdout",
     "output_type": "stream",
     "text": [
      "\n",
      "Unique values in Species column after Label Encoding:\n",
      "[0 1 2]\n"
     ]
    }
   ],
   "source": [
    "df['Species'] = label_encoder.fit_transform(df['Species'])\n",
    "print(\"\\nUnique values in Species column after Label Encoding:\")\n",
    "print(df['Species'].unique())"
   ]
  },
  {
   "cell_type": "code",
   "execution_count": 19,
   "id": "bae8401c-25b9-4eda-ae52-9545c70e016e",
   "metadata": {},
   "outputs": [
    {
     "name": "stdout",
     "output_type": "stream",
     "text": [
      "\n",
      "Dummy Encoded Iris Dataset:\n",
      "     sepal length (cm)  sepal width (cm)  petal length (cm)  petal width (cm)  \\\n",
      "0                  5.1               3.5                1.4               0.2   \n",
      "1                  4.9               3.0                1.4               0.2   \n",
      "2                  4.7               3.2                1.3               0.2   \n",
      "3                  4.6               3.1                1.5               0.2   \n",
      "4                  5.0               3.6                1.4               0.2   \n",
      "..                 ...               ...                ...               ...   \n",
      "145                6.7               3.0                5.2               2.3   \n",
      "146                6.3               2.5                5.0               1.9   \n",
      "147                6.5               3.0                5.2               2.0   \n",
      "148                6.2               3.4                5.4               2.3   \n",
      "149                5.9               3.0                5.1               1.8   \n",
      "\n",
      "     Species  Species_Label  \n",
      "0          0              0  \n",
      "1          0              0  \n",
      "2          0              0  \n",
      "3          0              0  \n",
      "4          0              0  \n",
      "..       ...            ...  \n",
      "145        2              2  \n",
      "146        2              2  \n",
      "147        2              2  \n",
      "148        2              2  \n",
      "149        2              2  \n",
      "\n",
      "[150 rows x 6 columns]\n"
     ]
    }
   ],
   "source": [
    "df_dummy_encoded = pd.get_dummies(df, drop_first=True)\n",
    "print(\"\\nDummy Encoded Iris Dataset:\")\n",
    "print(df_dummy_encoded)"
   ]
  },
  {
   "cell_type": "code",
   "execution_count": null,
   "id": "1bb25a97-f7ee-4f57-9e6f-f3ff5b1128aa",
   "metadata": {},
   "outputs": [],
   "source": []
  }
 ],
 "metadata": {
  "kernelspec": {
   "display_name": "Python 3 (ipykernel)",
   "language": "python",
   "name": "python3"
  },
  "language_info": {
   "codemirror_mode": {
    "name": "ipython",
    "version": 3
   },
   "file_extension": ".py",
   "mimetype": "text/x-python",
   "name": "python",
   "nbconvert_exporter": "python",
   "pygments_lexer": "ipython3",
   "version": "3.11.11"
  }
 },
 "nbformat": 4,
 "nbformat_minor": 5
}
