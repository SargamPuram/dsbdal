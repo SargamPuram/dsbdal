{
 "cells": [
  {
   "cell_type": "code",
   "execution_count": 2,
   "id": "bd49c7cf-8cc9-4b07-8a32-762de6b94e7c",
   "metadata": {},
   "outputs": [
    {
     "name": "stdout",
     "output_type": "stream",
     "text": [
      "Requirement already satisfied: pandas in /home/sargam/.conda/envs/myenv/lib/python3.11/site-packages (2.2.3)\n",
      "Requirement already satisfied: numpy in /home/sargam/.conda/envs/myenv/lib/python3.11/site-packages (2.0.1)\n",
      "Requirement already satisfied: seaborn in /home/sargam/.conda/envs/myenv/lib/python3.11/site-packages (0.13.2)\n",
      "Requirement already satisfied: python-dateutil>=2.8.2 in /home/sargam/.conda/envs/myenv/lib/python3.11/site-packages (from pandas) (2.9.0.post0)\n",
      "Requirement already satisfied: pytz>=2020.1 in /home/sargam/.conda/envs/myenv/lib/python3.11/site-packages (from pandas) (2024.1)\n",
      "Requirement already satisfied: tzdata>=2022.7 in /home/sargam/.conda/envs/myenv/lib/python3.11/site-packages (from pandas) (2025.2)\n",
      "Requirement already satisfied: matplotlib!=3.6.1,>=3.4 in /home/sargam/.conda/envs/myenv/lib/python3.11/site-packages (from seaborn) (3.10.1)\n",
      "Requirement already satisfied: contourpy>=1.0.1 in /home/sargam/.conda/envs/myenv/lib/python3.11/site-packages (from matplotlib!=3.6.1,>=3.4->seaborn) (1.3.2)\n",
      "Requirement already satisfied: cycler>=0.10 in /home/sargam/.conda/envs/myenv/lib/python3.11/site-packages (from matplotlib!=3.6.1,>=3.4->seaborn) (0.12.1)\n",
      "Requirement already satisfied: fonttools>=4.22.0 in /home/sargam/.conda/envs/myenv/lib/python3.11/site-packages (from matplotlib!=3.6.1,>=3.4->seaborn) (4.57.0)\n",
      "Requirement already satisfied: kiwisolver>=1.3.1 in /home/sargam/.conda/envs/myenv/lib/python3.11/site-packages (from matplotlib!=3.6.1,>=3.4->seaborn) (1.4.8)\n",
      "Requirement already satisfied: packaging>=20.0 in /home/sargam/.conda/envs/myenv/lib/python3.11/site-packages (from matplotlib!=3.6.1,>=3.4->seaborn) (24.2)\n",
      "Requirement already satisfied: pillow>=8 in /home/sargam/.conda/envs/myenv/lib/python3.11/site-packages (from matplotlib!=3.6.1,>=3.4->seaborn) (11.2.1)\n",
      "Requirement already satisfied: pyparsing>=2.3.1 in /home/sargam/.conda/envs/myenv/lib/python3.11/site-packages (from matplotlib!=3.6.1,>=3.4->seaborn) (3.2.3)\n",
      "Requirement already satisfied: six>=1.5 in /home/sargam/.conda/envs/myenv/lib/python3.11/site-packages (from python-dateutil>=2.8.2->pandas) (1.17.0)\n"
     ]
    }
   ],
   "source": [
    "!pip install pandas numpy seaborn\n"
   ]
  },
  {
   "cell_type": "code",
   "execution_count": 7,
   "id": "e37351f2-0229-44ba-81c7-a1a59f6b3066",
   "metadata": {},
   "outputs": [
    {
     "name": "stdout",
     "output_type": "stream",
     "text": [
      "   sepal_length  sepal_width  petal_length  petal_width species\n",
      "0           5.1          3.5           1.4          0.2  setosa\n",
      "1           4.9          3.0           1.4          0.2  setosa\n",
      "2           4.7          3.2           1.3          0.2  setosa\n",
      "3           4.6          3.1           1.5          0.2  setosa\n",
      "4           5.0          3.6           1.4          0.2  setosa\n"
     ]
    }
   ],
   "source": [
    "# Import necessary libraries\n",
    "import seaborn as sns\n",
    "# Importing necessary libraries\n",
    "import pandas as pd\n",
    "import numpy as np\n",
    "\n",
    "\n",
    "# Load the Iris dataset directly from seaborn\n",
    "df = sns.load_dataset('iris')\n",
    "\n",
    "# Inspect the first few rows to confirm it's loaded\n",
    "print(df.head())\n",
    "\n"
   ]
  },
  {
   "cell_type": "code",
   "execution_count": 8,
   "id": "6718b949-9f50-4e37-afb1-723b92f5cf6c",
   "metadata": {},
   "outputs": [],
   "source": [
    "# Group by the species and calculate the basic statistics\n",
    "grouped_stats = df.groupby('species').agg({\n",
    "    'sepal_length': ['mean', 'std', 'min', 'max', lambda x: np.percentile(x, 25), lambda x: np.percentile(x, 50), lambda x: np.percentile(x, 75)],\n",
    "    'sepal_width': ['mean', 'std', 'min', 'max', lambda x: np.percentile(x, 25), lambda x: np.percentile(x, 50), lambda x: np.percentile(x, 75)],\n",
    "    'petal_length': ['mean', 'std', 'min', 'max', lambda x: np.percentile(x, 25), lambda x: np.percentile(x, 50), lambda x: np.percentile(x, 75)],\n",
    "    'petal_width': ['mean', 'std', 'min', 'max', lambda x: np.percentile(x, 25), lambda x: np.percentile(x, 50), lambda x: np.percentile(x, 75)]\n",
    "})\n"
   ]
  },
  {
   "cell_type": "code",
   "execution_count": 9,
   "id": "cf72ac8b-4b2e-46c9-9d77-67902701a5c3",
   "metadata": {},
   "outputs": [
    {
     "name": "stdout",
     "output_type": "stream",
     "text": [
      "\n",
      "Grouped Summary Statistics for each Species:\n",
      "           sepal_length                                                       \\\n",
      "                   mean       std  min  max <lambda_0> <lambda_1> <lambda_2>   \n",
      "species                                                                        \n",
      "setosa            5.006  0.352490  4.3  5.8      4.800        5.0        5.2   \n",
      "versicolor        5.936  0.516171  4.9  7.0      5.600        5.9        6.3   \n",
      "virginica         6.588  0.635880  4.9  7.9      6.225        6.5        6.9   \n",
      "\n",
      "           sepal_width                 ... petal_length                        \\\n",
      "                  mean       std  min  ...   <lambda_0> <lambda_1> <lambda_2>   \n",
      "species                                ...                                      \n",
      "setosa           3.428  0.379064  2.3  ...          1.4       1.50      1.575   \n",
      "versicolor       2.770  0.313798  2.0  ...          4.0       4.35      4.600   \n",
      "virginica        2.974  0.322497  2.2  ...          5.1       5.55      5.875   \n",
      "\n",
      "           petal_width                                                       \n",
      "                  mean       std  min  max <lambda_0> <lambda_1> <lambda_2>  \n",
      "species                                                                      \n",
      "setosa           0.246  0.105386  0.1  0.6        0.2        0.2        0.3  \n",
      "versicolor       1.326  0.197753  1.0  1.8        1.2        1.3        1.5  \n",
      "virginica        2.026  0.274650  1.4  2.5        1.8        2.0        2.3  \n",
      "\n",
      "[3 rows x 28 columns]\n"
     ]
    }
   ],
   "source": [
    "# Display the result\n",
    "print(\"\\nGrouped Summary Statistics for each Species:\")\n",
    "print(grouped_stats)"
   ]
  },
  {
   "cell_type": "code",
   "execution_count": null,
   "id": "5bbe7de3-e855-49cb-9ac5-649958569474",
   "metadata": {},
   "outputs": [],
   "source": []
  }
 ],
 "metadata": {
  "kernelspec": {
   "display_name": "Python 3 (ipykernel)",
   "language": "python",
   "name": "python3"
  },
  "language_info": {
   "codemirror_mode": {
    "name": "ipython",
    "version": 3
   },
   "file_extension": ".py",
   "mimetype": "text/x-python",
   "name": "python",
   "nbconvert_exporter": "python",
   "pygments_lexer": "ipython3",
   "version": "3.11.11"
  }
 },
 "nbformat": 4,
 "nbformat_minor": 5
}
