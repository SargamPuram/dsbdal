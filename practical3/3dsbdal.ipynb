{
 "cells": [
  {
   "cell_type": "code",
   "execution_count": 3,
   "id": "cbe1129f-afdc-47a1-ba4d-b99c19447537",
   "metadata": {},
   "outputs": [
    {
     "name": "stdout",
     "output_type": "stream",
     "text": [
      "Requirement already satisfied: pandas in /home/sargam/.conda/envs/myenv/lib/python3.11/site-packages (2.2.3)\n",
      "Requirement already satisfied: seaborn in /home/sargam/.conda/envs/myenv/lib/python3.11/site-packages (0.13.2)\n",
      "Requirement already satisfied: numpy>=1.23.2 in /home/sargam/.conda/envs/myenv/lib/python3.11/site-packages (from pandas) (2.0.1)\n",
      "Requirement already satisfied: python-dateutil>=2.8.2 in /home/sargam/.conda/envs/myenv/lib/python3.11/site-packages (from pandas) (2.9.0.post0)\n",
      "Requirement already satisfied: pytz>=2020.1 in /home/sargam/.conda/envs/myenv/lib/python3.11/site-packages (from pandas) (2024.1)\n",
      "Requirement already satisfied: tzdata>=2022.7 in /home/sargam/.conda/envs/myenv/lib/python3.11/site-packages (from pandas) (2025.2)\n",
      "Requirement already satisfied: matplotlib!=3.6.1,>=3.4 in /home/sargam/.conda/envs/myenv/lib/python3.11/site-packages (from seaborn) (3.10.1)\n",
      "Requirement already satisfied: contourpy>=1.0.1 in /home/sargam/.conda/envs/myenv/lib/python3.11/site-packages (from matplotlib!=3.6.1,>=3.4->seaborn) (1.3.2)\n",
      "Requirement already satisfied: cycler>=0.10 in /home/sargam/.conda/envs/myenv/lib/python3.11/site-packages (from matplotlib!=3.6.1,>=3.4->seaborn) (0.12.1)\n",
      "Requirement already satisfied: fonttools>=4.22.0 in /home/sargam/.conda/envs/myenv/lib/python3.11/site-packages (from matplotlib!=3.6.1,>=3.4->seaborn) (4.57.0)\n",
      "Requirement already satisfied: kiwisolver>=1.3.1 in /home/sargam/.conda/envs/myenv/lib/python3.11/site-packages (from matplotlib!=3.6.1,>=3.4->seaborn) (1.4.8)\n",
      "Requirement already satisfied: packaging>=20.0 in /home/sargam/.conda/envs/myenv/lib/python3.11/site-packages (from matplotlib!=3.6.1,>=3.4->seaborn) (24.2)\n",
      "Requirement already satisfied: pillow>=8 in /home/sargam/.conda/envs/myenv/lib/python3.11/site-packages (from matplotlib!=3.6.1,>=3.4->seaborn) (11.2.1)\n",
      "Requirement already satisfied: pyparsing>=2.3.1 in /home/sargam/.conda/envs/myenv/lib/python3.11/site-packages (from matplotlib!=3.6.1,>=3.4->seaborn) (3.2.3)\n",
      "Requirement already satisfied: six>=1.5 in /home/sargam/.conda/envs/myenv/lib/python3.11/site-packages (from python-dateutil>=2.8.2->pandas) (1.17.0)\n"
     ]
    }
   ],
   "source": [
    "!pip install pandas seaborn"
   ]
  },
  {
   "cell_type": "code",
   "execution_count": 2,
   "id": "d0063f38-98c7-4a74-be86-cd5d3d88e6de",
   "metadata": {},
   "outputs": [
    {
     "data": {
      "text/html": [
       "<div>\n",
       "<style scoped>\n",
       "    .dataframe tbody tr th:only-of-type {\n",
       "        vertical-align: middle;\n",
       "    }\n",
       "\n",
       "    .dataframe tbody tr th {\n",
       "        vertical-align: top;\n",
       "    }\n",
       "\n",
       "    .dataframe thead th {\n",
       "        text-align: right;\n",
       "    }\n",
       "</style>\n",
       "<table border=\"1\" class=\"dataframe\">\n",
       "  <thead>\n",
       "    <tr style=\"text-align: right;\">\n",
       "      <th></th>\n",
       "      <th>CustomerID</th>\n",
       "      <th>Genre</th>\n",
       "      <th>Age</th>\n",
       "      <th>Annual Income (k$)</th>\n",
       "      <th>Spending Score (1-100)</th>\n",
       "    </tr>\n",
       "  </thead>\n",
       "  <tbody>\n",
       "    <tr>\n",
       "      <th>0</th>\n",
       "      <td>1</td>\n",
       "      <td>Male</td>\n",
       "      <td>19</td>\n",
       "      <td>15</td>\n",
       "      <td>39</td>\n",
       "    </tr>\n",
       "    <tr>\n",
       "      <th>1</th>\n",
       "      <td>2</td>\n",
       "      <td>Male</td>\n",
       "      <td>21</td>\n",
       "      <td>15</td>\n",
       "      <td>81</td>\n",
       "    </tr>\n",
       "    <tr>\n",
       "      <th>2</th>\n",
       "      <td>3</td>\n",
       "      <td>Female</td>\n",
       "      <td>20</td>\n",
       "      <td>16</td>\n",
       "      <td>6</td>\n",
       "    </tr>\n",
       "    <tr>\n",
       "      <th>3</th>\n",
       "      <td>4</td>\n",
       "      <td>Female</td>\n",
       "      <td>23</td>\n",
       "      <td>16</td>\n",
       "      <td>77</td>\n",
       "    </tr>\n",
       "    <tr>\n",
       "      <th>4</th>\n",
       "      <td>5</td>\n",
       "      <td>Female</td>\n",
       "      <td>31</td>\n",
       "      <td>17</td>\n",
       "      <td>40</td>\n",
       "    </tr>\n",
       "    <tr>\n",
       "      <th>...</th>\n",
       "      <td>...</td>\n",
       "      <td>...</td>\n",
       "      <td>...</td>\n",
       "      <td>...</td>\n",
       "      <td>...</td>\n",
       "    </tr>\n",
       "    <tr>\n",
       "      <th>195</th>\n",
       "      <td>196</td>\n",
       "      <td>Female</td>\n",
       "      <td>35</td>\n",
       "      <td>120</td>\n",
       "      <td>79</td>\n",
       "    </tr>\n",
       "    <tr>\n",
       "      <th>196</th>\n",
       "      <td>197</td>\n",
       "      <td>Female</td>\n",
       "      <td>45</td>\n",
       "      <td>126</td>\n",
       "      <td>28</td>\n",
       "    </tr>\n",
       "    <tr>\n",
       "      <th>197</th>\n",
       "      <td>198</td>\n",
       "      <td>Male</td>\n",
       "      <td>32</td>\n",
       "      <td>126</td>\n",
       "      <td>74</td>\n",
       "    </tr>\n",
       "    <tr>\n",
       "      <th>198</th>\n",
       "      <td>199</td>\n",
       "      <td>Male</td>\n",
       "      <td>32</td>\n",
       "      <td>137</td>\n",
       "      <td>18</td>\n",
       "    </tr>\n",
       "    <tr>\n",
       "      <th>199</th>\n",
       "      <td>200</td>\n",
       "      <td>Male</td>\n",
       "      <td>30</td>\n",
       "      <td>137</td>\n",
       "      <td>83</td>\n",
       "    </tr>\n",
       "  </tbody>\n",
       "</table>\n",
       "<p>200 rows × 5 columns</p>\n",
       "</div>"
      ],
      "text/plain": [
       "     CustomerID   Genre  Age  Annual Income (k$)  Spending Score (1-100)\n",
       "0             1    Male   19                  15                      39\n",
       "1             2    Male   21                  15                      81\n",
       "2             3  Female   20                  16                       6\n",
       "3             4  Female   23                  16                      77\n",
       "4             5  Female   31                  17                      40\n",
       "..          ...     ...  ...                 ...                     ...\n",
       "195         196  Female   35                 120                      79\n",
       "196         197  Female   45                 126                      28\n",
       "197         198    Male   32                 126                      74\n",
       "198         199    Male   32                 137                      18\n",
       "199         200    Male   30                 137                      83\n",
       "\n",
       "[200 rows x 5 columns]"
      ]
     },
     "execution_count": 2,
     "metadata": {},
     "output_type": "execute_result"
    }
   ],
   "source": [
    "import pandas as pd;\n",
    "df=pd.read_csv(\"/home/sargam/Downloads/Mall_Customers.csv\")\n",
    "df"
   ]
  },
  {
   "cell_type": "code",
   "execution_count": 4,
   "id": "b5f6e124-4a5d-4304-93db-ba0bbeb9e4bf",
   "metadata": {},
   "outputs": [],
   "source": [
    "# Group by Genre and get descriptive statistics\n",
    "grouped_stats = df.groupby('Genre').agg({\n",
    "    'Age': ['mean', 'median', 'min', 'max', 'std'],\n",
    "    'Annual Income (k$)': ['mean', 'median', 'min', 'max', 'std'],\n",
    "    'Spending Score (1-100)': ['mean', 'median', 'min', 'max', 'std']\n",
    "})"
   ]
  },
  {
   "cell_type": "code",
   "execution_count": 5,
   "id": "c18021ed-8cc5-4cd8-804a-185bed4bf8c8",
   "metadata": {},
   "outputs": [
    {
     "name": "stdout",
     "output_type": "stream",
     "text": [
      "Grouped Summary Statistics by Genre:\n",
      "              Age                           Annual Income (k$)             \\\n",
      "             mean median min max        std               mean median min   \n",
      "Genre                                                                       \n",
      "Female  38.098214   35.0  18  68  12.644095          59.250000   60.0  16   \n",
      "Male    39.806818   37.0  18  70  15.514812          62.227273   62.5  15   \n",
      "\n",
      "                       Spending Score (1-100)                           \n",
      "        max        std                   mean median min max       std  \n",
      "Genre                                                                   \n",
      "Female  126  26.011952              51.526786   50.0   5  99  24.11495  \n",
      "Male    137  26.638373              48.511364   50.0   1  97  27.89677  \n"
     ]
    }
   ],
   "source": [
    "# Display the result\n",
    "print(\"Grouped Summary Statistics by Genre:\")\n",
    "print(grouped_stats)\n"
   ]
  },
  {
   "cell_type": "code",
   "execution_count": 6,
   "id": "2edfbab3-1af6-4dbc-b687-7d8ea2aa4909",
   "metadata": {},
   "outputs": [],
   "source": [
    "# Create a list of numeric values for each genre (for each categorical response)\n",
    "genre_age_list = df.groupby('Genre')['Age'].apply(list)\n",
    "genre_income_list = df.groupby('Genre')['Annual Income (k$)'].apply(list)\n",
    "genre_spending_score_list = df.groupby('Genre')['Spending Score (1-100)'].apply(list)\n"
   ]
  },
  {
   "cell_type": "code",
   "execution_count": 7,
   "id": "2103ced7-2e81-4cde-aab2-8cff00290173",
   "metadata": {},
   "outputs": [
    {
     "name": "stdout",
     "output_type": "stream",
     "text": [
      "\n",
      "List of numeric values for 'Age' grouped by 'Genre':\n",
      "Genre\n",
      "Female    [20, 23, 31, 22, 35, 23, 30, 35, 58, 24, 35, 3...\n",
      "Male      [19, 21, 64, 67, 37, 22, 20, 52, 35, 25, 31, 2...\n",
      "Name: Age, dtype: object\n"
     ]
    }
   ],
   "source": [
    "# Display the lists for each response to the categorical variable\n",
    "print(\"\\nList of numeric values for 'Age' grouped by 'Genre':\")\n",
    "print(genre_age_list)\n"
   ]
  },
  {
   "cell_type": "code",
   "execution_count": 8,
   "id": "f13f3fc3-5373-4cd6-a155-9181804340b4",
   "metadata": {},
   "outputs": [
    {
     "name": "stdout",
     "output_type": "stream",
     "text": [
      "\n",
      "List of numeric values for 'Annual Income' grouped by 'Genre':\n",
      "Genre\n",
      "Female    [16, 16, 17, 17, 18, 18, 19, 19, 20, 20, 21, 2...\n",
      "Male      [15, 15, 19, 19, 20, 20, 21, 23, 24, 24, 25, 2...\n",
      "Name: Annual Income (k$), dtype: object\n"
     ]
    }
   ],
   "source": [
    "print(\"\\nList of numeric values for 'Annual Income' grouped by 'Genre':\")\n",
    "print(genre_income_list)\n"
   ]
  },
  {
   "cell_type": "code",
   "execution_count": 9,
   "id": "cc2bc2d5-898c-4e8b-9d2c-5528f3ed1d5d",
   "metadata": {},
   "outputs": [
    {
     "name": "stdout",
     "output_type": "stream",
     "text": [
      "\n",
      "List of numeric values for 'Spending Score' grouped by 'Genre':\n",
      "Genre\n",
      "Female    [6, 77, 40, 76, 6, 94, 72, 99, 15, 77, 35, 98,...\n",
      "Male      [39, 81, 3, 14, 13, 79, 66, 29, 35, 73, 73, 82...\n",
      "Name: Spending Score (1-100), dtype: object\n"
     ]
    }
   ],
   "source": [
    "print(\"\\nList of numeric values for 'Spending Score' grouped by 'Genre':\")\n",
    "print(genre_spending_score_list)"
   ]
  },
  {
   "cell_type": "code",
   "execution_count": null,
   "id": "f54d8d02-b35e-434f-b897-070d1870e7b3",
   "metadata": {},
   "outputs": [],
   "source": []
  },
  {
   "cell_type": "code",
   "execution_count": null,
   "id": "d26f45fe-c452-4797-8ac3-76d5988b9e74",
   "metadata": {},
   "outputs": [],
   "source": []
  }
 ],
 "metadata": {
  "kernelspec": {
   "display_name": "Python 3 (ipykernel)",
   "language": "python",
   "name": "python3"
  },
  "language_info": {
   "codemirror_mode": {
    "name": "ipython",
    "version": 3
   },
   "file_extension": ".py",
   "mimetype": "text/x-python",
   "name": "python",
   "nbconvert_exporter": "python",
   "pygments_lexer": "ipython3",
   "version": "3.11.11"
  }
 },
 "nbformat": 4,
 "nbformat_minor": 5
}
